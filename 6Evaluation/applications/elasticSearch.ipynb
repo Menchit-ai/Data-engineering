{
 "cells": [
  {
   "cell_type": "code",
   "execution_count": 1,
   "metadata": {},
   "outputs": [],
   "source": [
    "from elasticsearch import Elasticsearch\n",
    "LOCAL = False\n",
    "es_client = Elasticsearch([\"elasticsearch\"])"
   ]
  },
  {
   "cell_type": "code",
   "execution_count": 2,
   "metadata": {},
   "outputs": [
    {
     "data": {
      "text/plain": [
       "True"
      ]
     },
     "execution_count": 2,
     "metadata": {},
     "output_type": "execute_result"
    }
   ],
   "source": [
    "es_client.ping()"
   ]
  },
  {
   "cell_type": "code",
   "execution_count": 4,
   "metadata": {},
   "outputs": [
    {
     "data": {
      "text/plain": [
       "{'took': 10,\n",
       " 'timed_out': False,\n",
       " 'total': 0,\n",
       " 'deleted': 0,\n",
       " 'batches': 0,\n",
       " 'version_conflicts': 0,\n",
       " 'noops': 0,\n",
       " 'retries': {'bulk': 0, 'search': 0},\n",
       " 'throttled_millis': 0,\n",
       " 'requests_per_second': -1.0,\n",
       " 'throttled_until_millis': 0,\n",
       " 'failures': []}"
      ]
     },
     "execution_count": 4,
     "metadata": {},
     "output_type": "execute_result"
    }
   ],
   "source": [
    "es_client.delete_by_query(index='_all', body={\"query\": {\"match_all\": {}}})"
   ]
  },
  {
   "cell_type": "code",
   "execution_count": 6,
   "metadata": {},
   "outputs": [],
   "source": [
    "import json\n",
    "import pandas as pd"
   ]
  },
  {
   "cell_type": "code",
   "execution_count": 7,
   "metadata": {},
   "outputs": [
    {
     "name": "stdout",
     "output_type": "stream",
     "text": [
      "                                               title  votes  answers  \\\n",
      "0      How to call a method after a delay in Android    798       32   \n",
      "1               Creating a textarea with auto-resize    394       44   \n",
      "2  How to emulate GPS location in the Android Emu...    457       33   \n",
      "3          What encoding/code page is cmd.exe using?    274        6   \n",
      "4                  Escaping HTML strings with jQuery    626       26   \n",
      "\n",
      "                       date   views  \\\n",
      "0 2010-06-18 18:24:19+00:00  690929   \n",
      "1 2009-01-17 22:30:42+00:00  459837   \n",
      "2 2010-02-17 09:55:51+00:00  419668   \n",
      "3 2009-08-11 08:36:59+00:00  246499   \n",
      "4 2008-08-24 02:52:42+00:00  682715   \n",
      "\n",
      "                                                tags               author  \n",
      "0                    [java, android, handler, delay]               aryaxt  \n",
      "1       [javascript, html, resize, height, textarea]      DisgruntledGoat  \n",
      "2  [android, testing, android-emulator, geolocation]  UMAR-MOBITSOLUTIONS  \n",
      "3                  [windows, command-line, encoding]      Dan Gøran Lunde  \n",
      "4             [javascript, jquery, string, escaping]                 Page  \n"
     ]
    },
    {
     "data": {
      "text/plain": [
       "298550"
      ]
     },
     "execution_count": 7,
     "metadata": {},
     "output_type": "execute_result"
    }
   ],
   "source": [
    "with open(\"./scrapy_project/datatwo.json\",\"r\") as file:\n",
    "    data = pd.read_json(file)\n",
    "    \n",
    "print(data[0:5])    \n",
    "#data['votes'] = pd.to_numeric(data['votes'])\n",
    "#data['answers'] = pd.to_numeric(data['answers'])\n",
    "data['date'] = pd.to_datetime(data['date'])\n",
    "\n",
    "len(data)"
   ]
  },
  {
   "cell_type": "code",
   "execution_count": 8,
   "metadata": {},
   "outputs": [],
   "source": [
    "data = data.dropna()\n",
    "data = data.to_dict('records')"
   ]
  },
  {
   "cell_type": "code",
   "execution_count": 9,
   "metadata": {},
   "outputs": [
    {
     "data": {
      "text/plain": [
       "[{'title': 'How to call a method after a delay in Android',\n",
       "  'votes': 798,\n",
       "  'answers': 32,\n",
       "  'date': Timestamp('2010-06-18 18:24:19+0000', tz='UTC'),\n",
       "  'views': 690929,\n",
       "  'tags': ['java', 'android', 'handler', 'delay'],\n",
       "  'author': 'aryaxt'},\n",
       " {'title': 'Creating a textarea with auto-resize',\n",
       "  'votes': 394,\n",
       "  'answers': 44,\n",
       "  'date': Timestamp('2009-01-17 22:30:42+0000', tz='UTC'),\n",
       "  'views': 459837,\n",
       "  'tags': ['javascript', 'html', 'resize', 'height', 'textarea'],\n",
       "  'author': 'DisgruntledGoat'},\n",
       " {'title': 'How to emulate GPS location in the Android Emulator?',\n",
       "  'votes': 457,\n",
       "  'answers': 33,\n",
       "  'date': Timestamp('2010-02-17 09:55:51+0000', tz='UTC'),\n",
       "  'views': 419668,\n",
       "  'tags': ['android', 'testing', 'android-emulator', 'geolocation'],\n",
       "  'author': 'UMAR-MOBITSOLUTIONS'},\n",
       " {'title': 'What encoding/code page is cmd.exe using?',\n",
       "  'votes': 274,\n",
       "  'answers': 6,\n",
       "  'date': Timestamp('2009-08-11 08:36:59+0000', tz='UTC'),\n",
       "  'views': 246499,\n",
       "  'tags': ['windows', 'command-line', 'encoding'],\n",
       "  'author': 'Dan Gøran Lunde'},\n",
       " {'title': 'Escaping HTML strings with jQuery',\n",
       "  'votes': 626,\n",
       "  'answers': 26,\n",
       "  'date': Timestamp('2008-08-24 02:52:42+0000', tz='UTC'),\n",
       "  'views': 682715,\n",
       "  'tags': ['javascript', 'jquery', 'string', 'escaping'],\n",
       "  'author': 'Page'}]"
      ]
     },
     "execution_count": 9,
     "metadata": {},
     "output_type": "execute_result"
    }
   ],
   "source": [
    "data[0:5]"
   ]
  },
  {
   "cell_type": "code",
   "execution_count": 10,
   "metadata": {},
   "outputs": [],
   "source": [
    "from elasticsearch.helpers import bulk"
   ]
  },
  {
   "cell_type": "code",
   "execution_count": 11,
   "metadata": {},
   "outputs": [
    {
     "name": "stderr",
     "output_type": "stream",
     "text": [
      "/root/.local/share/virtualenvs/code-AFz48Hjb/lib/python3.8/site-packages/elasticsearch/connection/base.py:193: ElasticsearchDeprecationWarning: [types removal] Specifying types in bulk requests is deprecated.\n",
      "  warnings.warn(message, category=ElasticsearchDeprecationWarning)\n"
     ]
    },
    {
     "data": {
      "text/plain": [
       "(292283, [])"
      ]
     },
     "execution_count": 11,
     "metadata": {},
     "output_type": "execute_result"
    }
   ],
   "source": [
    "def generate_data(documents):\n",
    "    for docu in documents:\n",
    "        yield {\n",
    "            \"_index\": \"stacks\",\n",
    "            \"_type\": \"stack\",\n",
    "            \"_source\": {k:v if v else None for k,v in docu.items()},\n",
    "        }\n",
    "\n",
    "bulk(es_client, generate_data(data))"
   ]
  },
  {
   "cell_type": "code",
   "execution_count": 3,
   "metadata": {},
   "outputs": [
    {
     "name": "stdout",
     "output_type": "stream",
     "text": [
      "{\"took\":1,\"timed_out\":false,\"_shards\":{\"total\":1,\"successful\":1,\"skipped\":0,\"failed\":0},\"hits\":{\"total\":{\"value\":10000,\"relation\":\"gte\"},\"max_score\":1.0,\"hits\":[{\"_index\":\"stacks\",\"_type\":\"stack\",\"_id\":\"Kz77d3cBJXBYi4AvqWTl\",\"_score\":1.0,\"_source\":{\"title\":\"How to call a method after a delay in Android\",\"votes\":798,\"answers\":32,\"date\":\"2010-06-18T18:24:19+00:00\",\"views\":690929,\"tags\":[\"java\",\"android\",\"handler\",\"delay\"],\"author\":\"aryaxt\"}},{\"_index\":\"stacks\",\"_type\":\"stack\",\"_id\":\"LD77d3cBJXBYi4AvqWTl\",\"_score\":1.0,\"_source\":{\"title\":\"Creating a textarea with auto-resize\",\"votes\":394,\"answers\":44,\"date\":\"2009-01-17T22:30:42+00:00\",\"views\":459837,\"tags\":[\"javascript\",\"html\",\"resize\",\"height\",\"textarea\"],\"author\":\"DisgruntledGoat\"}},{\"_index\":\"stacks\",\"_type\":\"stack\",\"_id\":\"LT77d3cBJXBYi4AvqWTl\",\"_score\":1.0,\"_source\":{\"title\":\"How to emulate GPS location in the Android Emulator?\",\"votes\":457,\"answers\":33,\"date\":\"2010-02-17T09:55:51+00:00\",\"views\":419668,\"tags\":[\"android\",\"testing\",\"android-emulator\",\"geolocation\"],\"author\":\"UMAR-MOBITSOLUTIONS\"}},{\"_index\":\"stacks\",\"_type\":\"stack\",\"_id\":\"Lj77d3cBJXBYi4AvqWTl\",\"_score\":1.0,\"_source\":{\"title\":\"What encoding/code page is cmd.exe using?\",\"votes\":274,\"answers\":6,\"date\":\"2009-08-11T08:36:59+00:00\",\"views\":246499,\"tags\":[\"windows\",\"command-line\",\"encoding\"],\"author\":\"Dan Gøran Lunde\"}},{\"_index\":\"stacks\",\"_type\":\"stack\",\"_id\":\"Lz77d3cBJXBYi4AvqWTl\",\"_score\":1.0,\"_source\":{\"title\":\"Escaping HTML strings with jQuery\",\"votes\":626,\"answers\":26,\"date\":\"2008-08-24T02:52:42+00:00\",\"views\":682715,\"tags\":[\"javascript\",\"jquery\",\"string\",\"escaping\"],\"author\":\"Page\"}},{\"_index\":\"stacks\",\"_type\":\"stack\",\"_id\":\"MD77d3cBJXBYi4AvqWTl\",\"_score\":1.0,\"_source\":{\"title\":\"Asynchronously wait for Task<T> to complete with timeout\",\"votes\":417,\"answers\":16,\"date\":\"2010-11-21T14:29:16+00:00\",\"views\":245779,\"tags\":[\"c#\",\".net\",\"task-parallel-library\"],\"author\":\"dtb\"}},{\"_index\":\"stacks\",\"_type\":\"stack\",\"_id\":\"MT77d3cBJXBYi4AvqWTl\",\"_score\":1.0,\"_source\":{\"title\":\"How to implement onBackPressed() in Fragments?\",\"votes\":510,\"answers\":49,\"date\":\"2011-03-27T10:30:13+00:00\",\"views\":502214,\"tags\":[\"android\",\"android-fragments\",\"onbackpressed\"],\"author\":\"Android_programmer_camera\"}},{\"_index\":\"stacks\",\"_type\":\"stack\",\"_id\":\"Mj77d3cBJXBYi4AvqWTl\",\"_score\":1.0,\"_source\":{\"title\":\"Using .NET, how can you find the mime type of a file based on the file signature not the extension\",\"votes\":250,\"answers\":21,\"date\":\"2008-09-12T08:35:39+00:00\",\"views\":232265,\"tags\":[\"c#\",\"mime\",\"mime-types\"],\"author\":\"Richard Gourlay\"}},{\"_index\":\"stacks\",\"_type\":\"stack\",\"_id\":\"Mz77d3cBJXBYi4AvqWTl\",\"_score\":1.0,\"_source\":{\"title\":\"Regular expression to extract text between square brackets\",\"votes\":465,\"answers\":15,\"date\":\"2010-03-08T17:11:33+00:00\",\"views\":631754,\"tags\":[\"regex\"],\"author\":\"ObiWanKenobi\"}},{\"_index\":\"stacks\",\"_type\":\"stack\",\"_id\":\"ND77d3cBJXBYi4AvqWTl\",\"_score\":1.0,\"_source\":{\"title\":\"How to do case insensitive string comparison?\",\"votes\":1153,\"answers\":22,\"date\":\"2010-01-26T16:07:45+00:00\",\"views\":867351,\"tags\":[\"javascript\",\"string\"],\"author\":\"flybywire\"}}]}}"
     ]
    }
   ],
   "source": [
    "!curl http://elasticsearch:9200/stacks/_search"
   ]
  },
  {
   "cell_type": "code",
   "execution_count": 9,
   "metadata": {},
   "outputs": [],
   "source": [
    "QUERY =\"\"\"{\n",
    "    \"mappings\": {\n",
    "        \"type\": {\n",
    "          \"properties\": {\n",
    "            \"publisher\": {\n",
    "              \"type\": \"text\",\n",
    "              \"fielddata\": true\n",
    "            }\n",
    "          }\n",
    "        }\n",
    "      }\n",
    "}\"\"\""
   ]
  },
  {
   "cell_type": "code",
   "execution_count": 11,
   "metadata": {},
   "outputs": [
    {
     "name": "stdout",
     "output_type": "stream",
     "text": [
      "curl: option -d: requires parameter\r\n",
      "curl: try 'curl --help' or 'curl --manual' for more information\r\n"
     ]
    },
    {
     "data": {
      "text/plain": [
       "'{\\n    \"mappings\": {\\n        \"type\": {\\n          \"properties\": {\\n            \"publisher\": {\\n              \"type\": \"text\",\\n              \"fielddata\": true\\n            }\\n          }\\n        }\\n      }\\n}'"
      ]
     },
     "execution_count": 11,
     "metadata": {},
     "output_type": "execute_result"
    }
   ],
   "source": [
    "!curl -XPUT http://elasticsearch:9200/stacks -d \n",
    "\"\"\"{\n",
    "    \"mappings\": {\n",
    "        \"type\": {\n",
    "          \"properties\": {\n",
    "            \"publisher\": {\n",
    "              \"type\": \"text\",\n",
    "              \"fielddata\": true\n",
    "            }\n",
    "          }\n",
    "        }\n",
    "      }\n",
    "}\"\"\""
   ]
  },
  {
   "cell_type": "code",
   "execution_count": null,
   "metadata": {},
   "outputs": [],
   "source": [
    "result = es_client.search(index=\"stacks\", body={\"query\": {\"match_all\": {}}})\n",
    "result"
   ]
  },
  {
   "cell_type": "code",
   "execution_count": null,
   "metadata": {},
   "outputs": [],
   "source": [
    "ids = []\n",
    "for hit in result['hits']['hits']:\n",
    "    #print(\"Name : {title}\".format(**hit['_source']))\n",
    "    #print(\"******************\")\n",
    "    ids.append(\"{title}\".format(**hit['_source']))\n",
    "print(ids[0])"
   ]
  },
  {
   "cell_type": "code",
   "execution_count": null,
   "metadata": {},
   "outputs": [],
   "source": [
    "QUERY = {\n",
    "  \"query\": {\n",
    "    \"multi_match\" : {\n",
    "      \"query\":    \"stacks\",\n",
    "      \"fields\": [ \"title\", \"views\" ] \n",
    "    }\n",
    "  },\n",
    "    \"sort\" : [\n",
    "        { \"views\" : {\"order\" : \"desc\"}}\n",
    "    ]\n",
    "}"
   ]
  },
  {
   "cell_type": "code",
   "execution_count": null,
   "metadata": {},
   "outputs": [],
   "source": [
    "QUERY = {\n",
    "  \"query\": {\n",
    "    \"term\": {\n",
    "      \"title\": \"javascript\"\n",
    "    }\n",
    "  }\n",
    "}"
   ]
  },
  {
   "cell_type": "code",
   "execution_count": null,
   "metadata": {},
   "outputs": [],
   "source": [
    "result = es_client.search(index=\"stacks\", body=QUERY)\n",
    "#[elt['_source']['title'] for elt in result[\"hits\"][\"hits\"]]\n",
    "result"
   ]
  },
  {
   "cell_type": "code",
   "execution_count": null,
   "metadata": {},
   "outputs": [],
   "source": [
    "result['hits']['hits']"
   ]
  },
  {
   "cell_type": "code",
   "execution_count": null,
   "metadata": {},
   "outputs": [],
   "source": [
    "ids = []\n",
    "for hit in result['hits']['hits']:\n",
    "    print(\"Name : {title}\".format(**hit['_source']))\n",
    "    print(\"******************\")\n",
    "    ids.append(hit[\"_id\"])"
   ]
  },
  {
   "cell_type": "code",
   "execution_count": 20,
   "metadata": {},
   "outputs": [],
   "source": [
    "es = Elasticsearch([\"elasticsearch\"])"
   ]
  },
  {
   "cell_type": "code",
   "execution_count": 21,
   "metadata": {},
   "outputs": [
    {
     "name": "stdout",
     "output_type": "stream",
     "text": [
      "{\"took\":1030,\"timed_out\":false,\"_shards\":{\"total\":1,\"successful\":1,\"skipped\":0,\"failed\":0},\"hits\":{\"total\":{\"value\":10000,\"relation\":\"gte\"},\"max_score\":1.0,\"hits\":[{\"_index\":\"stacks\",\"_type\":\"stack\",\"_id\":\"mw4JY3cBFHzSIPGv9kTR\",\"_score\":1.0,\"_source\":{\"title\":\"How to call a method after a delay in Android\",\"votes\":\"798\",\"answers\":\"32\",\"date\":\"2010-06-18 18:24:19Z\",\"views\":690929,\"tags\":[\"java\",\"android\",\"handler\",\"delay\"],\"author\":\"aryaxt\"}},{\"_index\":\"stacks\",\"_type\":\"stack\",\"_id\":\"nA4JY3cBFHzSIPGv9kTR\",\"_score\":1.0,\"_source\":{\"title\":\"Creating a textarea with auto-resize\",\"votes\":\"394\",\"answers\":\"44\",\"date\":\"2009-01-17 22:30:42Z\",\"views\":459837,\"tags\":[\"javascript\",\"html\",\"resize\",\"height\",\"textarea\"],\"author\":\"DisgruntledGoat\"}},{\"_index\":\"stacks\",\"_type\":\"stack\",\"_id\":\"nQ4JY3cBFHzSIPGv9kTR\",\"_score\":1.0,\"_source\":{\"title\":\"How to emulate GPS location in the Android Emulator?\",\"votes\":\"457\",\"answers\":\"33\",\"date\":\"2010-02-17 09:55:51Z\",\"views\":419668,\"tags\":[\"android\",\"testing\",\"android-emulator\",\"geolocation\"],\"author\":\"UMAR-MOBITSOLUTIONS\"}},{\"_index\":\"stacks\",\"_type\":\"stack\",\"_id\":\"ng4JY3cBFHzSIPGv9kTR\",\"_score\":1.0,\"_source\":{\"title\":\"What encoding/code page is cmd.exe using?\",\"votes\":\"274\",\"answers\":\"6\",\"date\":\"2009-08-11 08:36:59Z\",\"views\":246499,\"tags\":[\"windows\",\"command-line\",\"encoding\"],\"author\":\"Dan Gøran Lunde\"}},{\"_index\":\"stacks\",\"_type\":\"stack\",\"_id\":\"nw4JY3cBFHzSIPGv9kTR\",\"_score\":1.0,\"_source\":{\"title\":\"Escaping HTML strings with jQuery\",\"votes\":\"626\",\"answers\":\"26\",\"date\":\"2008-08-24 02:52:42Z\",\"views\":682715,\"tags\":[\"javascript\",\"jquery\",\"string\",\"escaping\"],\"author\":\"Page\"}},{\"_index\":\"stacks\",\"_type\":\"stack\",\"_id\":\"oA4JY3cBFHzSIPGv9kTR\",\"_score\":1.0,\"_source\":{\"title\":\"Asynchronously wait for Task<T> to complete with timeout\",\"votes\":\"417\",\"answers\":\"16\",\"date\":\"2010-11-21 14:29:16Z\",\"views\":245779,\"tags\":[\"c#\",\".net\",\"task-parallel-library\"],\"author\":\"dtb\"}},{\"_index\":\"stacks\",\"_type\":\"stack\",\"_id\":\"oQ4JY3cBFHzSIPGv9kTR\",\"_score\":1.0,\"_source\":{\"title\":\"How to implement onBackPressed() in Fragments?\",\"votes\":\"510\",\"answers\":\"49\",\"date\":\"2011-03-27 10:30:13Z\",\"views\":502214,\"tags\":[\"android\",\"android-fragments\",\"onbackpressed\"],\"author\":\"Android_programmer_camera\"}},{\"_index\":\"stacks\",\"_type\":\"stack\",\"_id\":\"og4JY3cBFHzSIPGv9kTR\",\"_score\":1.0,\"_source\":{\"title\":\"Using .NET, how can you find the mime type of a file based on the file signature not the extension\",\"votes\":\"250\",\"answers\":\"21\",\"date\":\"2008-09-12 08:35:39Z\",\"views\":232265,\"tags\":[\"c#\",\"mime\",\"mime-types\"],\"author\":\"Richard Gourlay\"}},{\"_index\":\"stacks\",\"_type\":\"stack\",\"_id\":\"ow4JY3cBFHzSIPGv9kTR\",\"_score\":1.0,\"_source\":{\"title\":\"Regular expression to extract text between square brackets\",\"votes\":\"465\",\"answers\":\"15\",\"date\":\"2010-03-08 17:11:33Z\",\"views\":631754,\"tags\":[\"regex\"],\"author\":\"ObiWanKenobi\"}},{\"_index\":\"stacks\",\"_type\":\"stack\",\"_id\":\"pA4JY3cBFHzSIPGv9kTR\",\"_score\":1.0,\"_source\":{\"title\":\"How to do case insensitive string comparison?\",\"votes\":\"1153\",\"answers\":\"22\",\"date\":\"2010-01-26 16:07:45Z\",\"views\":867351,\"tags\":[\"javascript\",\"string\"],\"author\":\"flybywire\"}}]}}"
     ]
    }
   ],
   "source": [
    "!curl http://elasticsearch:9200/stacks/_search"
   ]
  }
 ],
 "metadata": {
  "kernelspec": {
   "display_name": "Python 3",
   "language": "python",
   "name": "python3"
  },
  "language_info": {
   "codemirror_mode": {
    "name": "ipython",
    "version": 3
   },
   "file_extension": ".py",
   "mimetype": "text/x-python",
   "name": "python",
   "nbconvert_exporter": "python",
   "pygments_lexer": "ipython3",
   "version": "3.8.7"
  }
 },
 "nbformat": 4,
 "nbformat_minor": 4
}