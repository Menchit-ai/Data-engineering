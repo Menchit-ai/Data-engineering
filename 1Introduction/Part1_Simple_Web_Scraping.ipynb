{
 "cells": [
  {
   "cell_type": "markdown",
   "metadata": {},
   "source": [
    "# Introduction"
   ]
  },
  {
   "cell_type": "markdown",
   "metadata": {},
   "source": [
    "Avant de commencer, parcourer le fichier README.rst"
   ]
  },
  {
   "cell_type": "markdown",
   "metadata": {},
   "source": [
    "# Requête HTTP "
   ]
  },
  {
   "cell_type": "markdown",
   "metadata": {},
   "source": [
    "Un requête HTTP est une requête basé sur le protocole TCP, elle fait partie de la couche application de la couche OSI. Elle permet d'accéder aux données mise à disposition sur une adresse IP (ou url résolue par un DNS) et un port. \n",
    "\n",
    "Les deux ports les plus utilisé dans le web sont le 80 pour les sites en HTTP et le 443 pour les sites en HTTPS. HTTPS est une variable du protocole HTTP basé sur le protocole TLS.\n",
    "\n",
    "Il existe de nombreux types de requêtes selon la convention `REST`: \n",
    "- GET\n",
    "- POST\n",
    "- PUT \n",
    "- DELETE\n",
    "- UPDATE.\n",
    "\n",
    "Dans notre cas nous allons utiliser la plupart du temps des GET et potentiellement des POST. \n",
    "- Le GET permet comme sont nom l'indique de récupérer des informations en fonction de certain paramètres. \n",
    "- Le POST nécessite un envoie de données pour récupérer des données. Le body du post est, la plupart du temps, envoyé sous la forme d'un objet JSON.\n",
    "\n",
    "Ces requêtes encapsulent un certain nombre de paramètres qui permettent soient d'identifier une provenance et un utilisateur ou de réaliser différentes actions."
   ]
  },
  {
   "cell_type": "code",
   "execution_count": 1,
   "metadata": {},
   "outputs": [],
   "source": [
    "import requests"
   ]
  },
  {
   "cell_type": "code",
   "execution_count": 2,
   "metadata": {},
   "outputs": [
    {
     "data": {
      "text/plain": [
       "200"
      ]
     },
     "execution_count": 2,
     "metadata": {},
     "output_type": "execute_result"
    }
   ],
   "source": [
    "url = \"http://www.esiee.fr/\"\n",
    "response = requests.get(url)\n",
    "response.status_code"
   ]
  },
  {
   "cell_type": "markdown",
   "metadata": {},
   "source": [
    "Il existe deux méthodes pour récupérer le contenu de la page :\n",
    "\n",
    "- `response.text` qui permet de retourner le texte sous la forme d'une chaine de charactères.\n",
    "- `response.content` qui permet de récupérer le contenu de la page sous la forme de bytes"
   ]
  },
  {
   "cell_type": "code",
   "execution_count": 3,
   "metadata": {},
   "outputs": [
    {
     "data": {
      "text/plain": [
       "bytes"
      ]
     },
     "execution_count": 3,
     "metadata": {},
     "output_type": "execute_result"
    }
   ],
   "source": [
    "type(response.content)"
   ]
  },
  {
   "cell_type": "code",
   "execution_count": 4,
   "metadata": {},
   "outputs": [
    {
     "data": {
      "text/plain": [
       "str"
      ]
     },
     "execution_count": 4,
     "metadata": {},
     "output_type": "execute_result"
    }
   ],
   "source": [
    "type(response.text)"
   ]
  },
  {
   "cell_type": "markdown",
   "metadata": {},
   "source": [
    "Pour récupérer les 1000 premiers charactères de la page :"
   ]
  },
  {
   "cell_type": "code",
   "execution_count": 5,
   "metadata": {},
   "outputs": [
    {
     "data": {
      "text/plain": [
       "'<!DOCTYPE html>\\n<!--[if lt IE 7]>      <html class=\"no-js lt-ie9 lt-ie8 lt-ie7\"> <![endif]-->\\n<!--[if IE 7]>         <html class=\"no-js lt-ie9 lt-ie8\"> <![endif]-->\\n<!--[if IE 8]>         <html class=\"no-js lt-ie9\"> <![endif]-->\\n<!--[if IE 9]>         <html class=\"no-js ie9\"> <![endif]-->\\n<!--[if gt IE 9]><!--> <html class=\"no-js\"> <!--<![endif]-->\\n<head profile=\"http://www.w3.org/1999/xhtml/vocab\">\\n\\t<!-- Google Tag Manager -->\\n\\t<script>\\n\\t\\t(function(w,d,s,l,i){\\n\\t\\t\\tw[l]=w[l]||[];w[l].push({\\'gtm.start\\':new Date().getTime(),event:\\'gtm.js\\'});\\n\\t\\t\\tvar f=d.getElementsByTagName(s)[0],\\tj=d.createElement(s),dl=l!=\\'dataLayer\\'?\\'&l=\\'+l:\\'\\';\\n\\t\\t\\tj.async=true;\\n\\t\\t\\tj.src=\\'https://www.googletagmanager.com/gtm.js?id=\\'+i+dl;f.parentNode.insertBefore(j,f);\\n\\t\\t\\t}\\n\\t\\t)\\n\\t\\t(window,document,\\'script\\',\\'dataLayer\\',\\'GTM-MQF5LJB\\');\\n\\t</script>\\n\\t<!-- End Google Tag Manager -->\\n  <meta name=\"google-site-verification\" content=\"JnG7DTdhQuWTeSHlWC63CeWpb3WValiOorksYjoYOWI\" />\\n  <meta http-equiv=\"Content-Type\" content=\"text/ht'"
      ]
     },
     "execution_count": 5,
     "metadata": {},
     "output_type": "execute_result"
    }
   ],
   "source": [
    "response.text[0:1000]"
   ]
  },
  {
   "cell_type": "markdown",
   "metadata": {},
   "source": [
    "Pour récupérer les headers HTTP de la réponse :"
   ]
  },
  {
   "cell_type": "code",
   "execution_count": 6,
   "metadata": {},
   "outputs": [
    {
     "data": {
      "text/plain": [
       "{'Date': 'Mon, 09 Nov 2020 15:32:52 GMT', 'Server': 'Apache/2.4.25 (Debian)', 'Expires': 'Sun, 19 Nov 1978 05:00:00 GMT', 'Cache-Control': 'no-cache, must-revalidate', 'X-Content-Type-Options': 'nosniff', 'Content-Language': 'fr', 'X-Frame-Options': 'SAMEORIGIN', 'X-Generator': 'Drupal 7 (http://drupal.org)', 'Vary': 'Accept-Encoding', 'Content-Encoding': 'gzip', 'Content-Length': '16072', 'Keep-Alive': 'timeout=5, max=150', 'Connection': 'Keep-Alive', 'Content-Type': 'text/html; charset=utf-8'}"
      ]
     },
     "execution_count": 6,
     "metadata": {},
     "output_type": "execute_result"
    }
   ],
   "source": [
    "response.headers"
   ]
  },
  {
   "cell_type": "markdown",
   "metadata": {},
   "source": [
    "On peut modifier les paramêtres de la requête et/ou ses headers. On peut par exemple ajouter un UserAgent et un timeout de 10 secondes:"
   ]
  },
  {
   "cell_type": "code",
   "execution_count": 7,
   "metadata": {},
   "outputs": [
    {
     "data": {
      "text/plain": [
       "b'<!DOCTYPE html>\\n<!--[if lt IE 7]>      <html class=\"no-js lt-ie9 lt-ie8 lt-ie7\"> <![endif]-->\\n<!--[if IE 7]>         <html class=\"no-js lt-ie9 lt-ie8\"> <![endif]-->\\n<!--[if IE 8]>         <html class=\"no-js lt-ie9\"> <![endif]-->\\n<!--[if IE 9]>         <html class=\"no-js ie9\"> <![endif]-->\\n<!--[if gt IE 9]><!--> <html class=\"no-js\"> <!--<![endif]-->\\n<head profile=\"http://www.w3.org/1999/xhtml/vocab\">\\n\\t<!-- Google Tag Manager -->\\n\\t<script>\\n\\t\\t(function(w,d,s,l,i){\\n\\t\\t\\tw[l]=w[l]||[];w[l].push({\\'gtm.start\\':new Date().getTime(),event:\\'gtm.js\\'});\\n\\t\\t\\tvar f=d.getElementsByTagName(s)[0],\\tj=d.createElement(s),dl=l!=\\'dataLayer\\'?\\'&l=\\'+l:\\'\\';\\n\\t\\t\\tj.async=true;\\n\\t\\t\\tj.src=\\'https://www.googletagmanager.com/gtm.js?id=\\'+i+dl;f.parentNode.insertBefore(j,f);\\n\\t\\t\\t}\\n\\t\\t)\\n\\t\\t(window,document,\\'script\\',\\'dataLayer\\',\\'GTM-MQF5LJB\\');\\n\\t</script>\\n\\t<!-- End Google Tag Manager -->\\n  <meta name=\"google-site-verification\" content=\"JnG7DTdhQuWTeSHlWC63CeWpb3WValiOorksYjoYOWI\" />\\n  <meta http-equiv=\"Content-Type\" content=\"text/ht'"
      ]
     },
     "execution_count": 7,
     "metadata": {},
     "output_type": "execute_result"
    }
   ],
   "source": [
    "headers = {'User-Agent': 'Mozilla/5.0 (Macintosh; Intel Mac OS X 10_10_1) AppleWebKit/537.36 (KHTML, like Gecko) Chrome/39.0.2171.95 Safari/537.36'}\n",
    "response = requests.get(url, headers=headers, timeout = 10)\n",
    "response.content[0:1000]"
   ]
  },
  {
   "cell_type": "markdown",
   "metadata": {},
   "source": [
    "## Exercice"
   ]
  },
  {
   "cell_type": "markdown",
   "metadata": {},
   "source": [
    "## Exercice 1\n",
    "\n",
    "- Créer une classe Python permettant de faire des requêtes HTTP.\n",
    "- Cette classe doit utiliser toujours le même UserAgent.\n",
    "- Le TimeOut sera spécifié à chaque appelle avec une valeur par défaut.\n",
    "- Un mécanisme de retry sera mis en place de façon recursive."
   ]
  },
  {
   "cell_type": "code",
   "execution_count": 65,
   "metadata": {},
   "outputs": [],
   "source": [
    "class request():\n",
    "    \n",
    "    def __init__(self,URL,userAgent,timeOut=10):\n",
    "        self.aURL = URL\n",
    "        self.aUserAgent = userAgent\n",
    "        self.aTimeOut = timeOut\n",
    "        self.aHeader = {'User-Agent':self.aUserAgent}\n",
    "    \n",
    "    def get(self,URL=None):\n",
    "        if URL is None:\n",
    "            URL = self.aURL\n",
    "\n",
    "        for _ in range(10):\n",
    "            try:\n",
    "                return request.get(URL, headers=self.aHeaders, timeout = self.aTimeOut)\n",
    "\n",
    "            except requests.exceptions.HTTPError as errh:\n",
    "                nbTry = nbTry -1\n",
    "                print (\"Http Error:\",errh)\n",
    "                raise errh\n",
    "\n",
    "            except requests.exceptions.ConnectionError as errc:\n",
    "                nbTry = nbTry -1\n",
    "                print (\"Error Connecting:\",errc)\n",
    "                self.get(URL)\n",
    "                raise errc\n",
    "\n",
    "            except requests.exceptions.Timeout as errt:\n",
    "                nbTry = nbTry -1\n",
    "                print (\"Timeout Error:\",errt)\n",
    "                self.get(URL)\n",
    "                raise errt\n",
    "\n",
    "            except requests.exceptions.RequestException as err:\n",
    "                nbTry = nbTry -1\n",
    "                print (\"OOps: Something Else\",err)\n",
    "                self.get(URL)\n",
    "                raise err\n",
    "                return self.get()\n",
    "    "
   ]
  },
  {
   "cell_type": "markdown",
   "metadata": {},
   "source": [
    "## Exercice 2\n",
    "\n",
    "- Faire une fonction permettant de supprimer tous les espaces supperflus d'une string\n",
    "- Faire une fonction qui prend une string html et renvois une string intelligible (enlever les caractères spéciaux,\n",
    "- Récupérer le domaine en fonction d'un url"
   ]
  },
  {
   "cell_type": "code",
   "execution_count": 9,
   "metadata": {},
   "outputs": [],
   "source": [
    "import re\n",
    "\n",
    "def spacing(text):\n",
    "    return \" \".join(text.split())\n",
    "        \n",
    "def despecialized(text):\n",
    "    return [re.sub(r\"[^a-zA-Z0-9]+\", ' ', k) for k in text.split()]"
   ]
  },
  {
   "cell_type": "markdown",
   "metadata": {},
   "source": [
    "# Exploitation du HTML  "
   ]
  },
  {
   "cell_type": "markdown",
   "metadata": {},
   "source": [
    "Ici, il faut récupérer le code HTML d'un site web à partir d'une requête. Lorsque vous avez récupéré le texte d'un site il faut le parser. Pour cela, on utilise BeautifulSoup qui permet de transformer la structure HTML en objet Python. Cela permet de récupérer efficacement les données qui nous intéresse.\n",
    "\n",
    "Pour les webmasters, le blocage le plus souvent mis en place et un blocage sur le User-Agent. Le User-Agent est un paramètre intégré dans la requête HTTP réalisé par le Navigateur pour envoyer au front des informations basiques :\n",
    "\n",
    "- la version du Navigateur,\n",
    "- la version de l'OS\n",
    "- Le type de gestionnaire graphique (Gecko)\n",
    "- le type de device utilisé"
   ]
  },
  {
   "cell_type": "markdown",
   "metadata": {},
   "source": [
    "Exemple de User Agent :  \n",
    "\n",
    "`Mozilla/5.0 (Windows NT 6.1; Win64; x64; rv:47.0) Gecko/20100101 Firefox/47.0`"
   ]
  },
  {
   "cell_type": "markdown",
   "metadata": {},
   "source": [
    "Commençons à utiliser `BeautifulSoup`, pour l'installer : "
   ]
  },
  {
   "cell_type": "code",
   "execution_count": 10,
   "metadata": {},
   "outputs": [
    {
     "name": "stdout",
     "output_type": "stream",
     "text": [
      "Requirement already satisfied: bs4 in /root/.local/share/virtualenvs/code-AFz48Hjb/lib/python3.8/site-packages (0.0.1)\n",
      "Requirement already satisfied: beautifulsoup4 in /root/.local/share/virtualenvs/code-AFz48Hjb/lib/python3.8/site-packages (from bs4) (4.9.3)\n",
      "Requirement already satisfied: soupsieve>1.2; python_version >= \"3.0\" in /root/.local/share/virtualenvs/code-AFz48Hjb/lib/python3.8/site-packages (from beautifulsoup4->bs4) (2.0.1)\n",
      "Requirement already satisfied: lxml in /root/.local/share/virtualenvs/code-AFz48Hjb/lib/python3.8/site-packages (4.6.1)\n"
     ]
    }
   ],
   "source": [
    "!pip install bs4\n",
    "!pip install  lxml"
   ]
  },
  {
   "cell_type": "code",
   "execution_count": 11,
   "metadata": {},
   "outputs": [],
   "source": [
    "import requests\n",
    "from bs4 import BeautifulSoup"
   ]
  },
  {
   "cell_type": "markdown",
   "metadata": {},
   "source": [
    "Pour transformer une requête (requests) en objet BeautifulSoup :"
   ]
  },
  {
   "cell_type": "code",
   "execution_count": 12,
   "metadata": {},
   "outputs": [],
   "source": [
    "response = requests.get(url)\n",
    "soup = BeautifulSoup(response.text)"
   ]
  },
  {
   "cell_type": "markdown",
   "metadata": {},
   "source": [
    "Il se peut qu'un message d'erreur arrive à ce point là si vous n'avez pas la librarie `lxml` installée, pour se faire vous avez juste à lancer la commande suivante : "
   ]
  },
  {
   "cell_type": "code",
   "execution_count": 13,
   "metadata": {},
   "outputs": [
    {
     "name": "stdout",
     "output_type": "stream",
     "text": [
      "Requirement already satisfied: lxml in /root/.local/share/virtualenvs/code-AFz48Hjb/lib/python3.8/site-packages (4.6.1)\r\n"
     ]
    }
   ],
   "source": [
    "!pip install lxml"
   ]
  },
  {
   "cell_type": "markdown",
   "metadata": {},
   "source": [
    "Pour trouver tous les liens d'une page on récupère la balise `a` qui permet de gérer les liens en HTML  :"
   ]
  },
  {
   "cell_type": "code",
   "execution_count": 14,
   "metadata": {},
   "outputs": [
    {
     "data": {
      "text/plain": [
       "[<a href=\"#\">\n",
       " <i class=\"icon-parametres\"></i>\n",
       " </a>,\n",
       " <a href=\"https://gmail.com\" target=\"_blank\" title=\"Webmail ESIEE Paris\"><i><img alt=\"\" src=\"https://www.esiee.fr/sites/default/files/menu_icons/menu_icon_950.png\"/> </i><span>Webmail ESIEE Paris</span></a>,\n",
       " <a href=\"https://planif.esiee.fr/direct/\" target=\"_blank\" title=\"Emploi du temps général\"><i><img alt=\"\" src=\"https://www.esiee.fr/sites/default/files/menu_icons/menu_icon_1331.png\"/> </i><span>Emploi du temps général</span></a>,\n",
       " <a href=\"https://planif.esiee.fr/jsp/custom/esiee/easyMyPlanning.jsp\" target=\"_blank\" title=\"Emploi du temps individuel\"><i><img alt=\"\" src=\"https://www.esiee.fr/sites/default/files/menu_icons/menu_icon_1332.png\"/> </i><span>Emploi du temps individuel</span></a>,\n",
       " <a href=\"https://intra.esiee.fr\" target=\"_blank\" title=\"Extranet\"><i><img alt=\"\" src=\"https://www.esiee.fr/sites/default/files/menu_icons/menu_icon_951.png\"/> </i><span>Extranet</span></a>,\n",
       " <a href=\"https://esiee.blackboard.com\" target=\"_blank\" title=\"iCampus\"><i><img alt=\"\" src=\"https://www.esiee.fr/sites/default/files/menu_icons/menu_icon_1311.png\"/> </i><span>iCampus</span></a>,\n",
       " <a href=\"http://e5.onthehub.com/WebStore/Welcome.aspx?vsro=8&amp;ws=45AD823E-799B-E011-969D-0030487D8897&amp;JSEnabled=1\" target=\"_blank\" title=\"Microsoft DreamSpark\"><i><img alt=\"\" src=\"https://www.esiee.fr/sites/default/files/menu_icons/menu_icon_1696.png\"/> </i><span>Microsoft DreamSpark</span></a>,\n",
       " <a href=\"/en\">\n",
       " <i>\n",
       " <img alt=\"English\" src=\"/sites/all/themes/custom/esiee_theme/assets/images/flag-en.png\"/>\n",
       " </i>\n",
       " </a>,\n",
       " <a href=\"https://www.facebook.com/esieeparis\" target=\"_blank\">\n",
       " <i class=\"fa fa-facebook\"></i>\n",
       " </a>,\n",
       " <a href=\"https://twitter.com/ESIEEPARIS\" target=\"_blank\">\n",
       " <i class=\"fa fa-twitter\"></i>\n",
       " </a>]"
      ]
     },
     "execution_count": 14,
     "metadata": {},
     "output_type": "execute_result"
    }
   ],
   "source": [
    "soup.find_all(\"a\")[0:10]"
   ]
  },
  {
   "cell_type": "markdown",
   "metadata": {},
   "source": [
    "On peut préciser la classe HTML voulue  pour l'ensemble des `a`:\n",
    "\n",
    "```python\n",
    "soup.find_all(class_=\"<CLASS_NAME>\")[0:10]\n",
    "```\n",
    "\n",
    "Ici par exemple: "
   ]
  },
  {
   "cell_type": "code",
   "execution_count": 15,
   "metadata": {},
   "outputs": [
    {
     "data": {
      "text/plain": [
       "[<div class=\"slide slide-content\">\n",
       " <span class=\"slide-content-date inline-block\"><span class=\"date-display-single\">30.10.2020</span></span>\n",
       " <span class=\"slide-content-theme inline-block is-uppercase\">Actualités</span>\n",
       " <div class=\"clearfix\"></div>\n",
       " <div class=\"slide-content-img pull-left\"><!-- scald=2641:news_thumbnail --><img alt=\"Informations Coronavirus\" height=\"90\" src=\"https://www.esiee.fr/sites/default/files/styles/news/public/thumbnails/image/informations-coronavirus.jpg?itok=YDDYw-dy\" title=\"Informations Coronavirus\" width=\"120\"/><!-- END scald=2641 --></div>\n",
       " <span class=\"slide-content-title\"><a class=\"is-uppercase\" href=\"/fr/actualite/information-coronavirus\">Dernières informations Covid-19</a></span>\n",
       " <div class=\"clearfix\"></div>\n",
       " <p class=\"slide-content-desc\">Cette page a pour objectif de vous informer en temps réel des mesures prises par l’école dans le cadre de la situation exceptionnelle dûe à l'épidémie du Coronavirus.</p> </div>,\n",
       " <div class=\"slide slide-content\">\n",
       " <span class=\"slide-content-date inline-block\"><span class=\"date-display-single\">03.11.2020</span></span>\n",
       " <span class=\"slide-content-theme inline-block is-uppercase\">Concours</span>\n",
       " <div class=\"clearfix\"></div>\n",
       " <div class=\"slide-content-img pull-left\"><!-- scald=2697:news_thumbnail --><img alt=\"iCAN 2020\" height=\"90\" src=\"https://www.esiee.fr/sites/default/files/styles/news/public/thumbnails/image/visuel-ican-2020-web.png?itok=OSNMiqc4\" title=\"iCAN 2020\" width=\"120\"/><!-- END scald=2697 --></div>\n",
       " <span class=\"slide-content-title\"><a class=\"is-uppercase\" href=\"/fr/actualite/concours-ican-2020\">Des étudiants ESIEE Paris remportent le 1er prix du concours international iCAN</a></span>\n",
       " <div class=\"clearfix\"></div>\n",
       " <p class=\"slide-content-desc\">Bravo à Kathyna, Yasmine, Davina, et Gabin qui remportent le premier prix du Concours international “iCan 2020”.</p> </div>,\n",
       " <div class=\"slide slide-content\">\n",
       " <span class=\"slide-content-date inline-block\"><span class=\"date-display-single\">19.10.2020</span></span>\n",
       " <span class=\"slide-content-theme inline-block is-uppercase\">Actualités</span>\n",
       " <div class=\"clearfix\"></div>\n",
       " <div class=\"slide-content-img pull-left\"><!-- scald=2680:news_thumbnail --><img alt=\"Hommage à Samuel Paty\" height=\"90\" src=\"https://www.esiee.fr/sites/default/files/styles/news/public/thumbnails/image/samuel_paty.jpg?itok=coQjCfWX\" title=\"Hommage à Samuel Paty\" width=\"120\"/><!-- END scald=2680 --></div>\n",
       " <span class=\"slide-content-title\"><a class=\"is-uppercase\" href=\"/fr/esiee-paris-sassocie-%C3%A0-lhommage-national-%C3%A0-samuel-paty\">ESIEE Paris s'associe à l'hommage national à Samuel Paty</a></span>\n",
       " <div class=\"clearfix\"></div>\n",
       " <p class=\"slide-content-desc\">ESIEE Paris s'associe à l'hommage national à Samuel Paty</p> </div>,\n",
       " <div class=\"slide slide-content\">\n",
       " <span class=\"slide-content-date inline-block\"><span class=\"date-display-single\">08.10.2020</span></span>\n",
       " <span class=\"slide-content-theme inline-block is-uppercase\">Challenge</span>\n",
       " <div class=\"clearfix\"></div>\n",
       " <div class=\"slide-content-img pull-left\"></div>\n",
       " <span class=\"slide-content-title\"><a class=\"is-uppercase\" href=\"/fr/actualite/challenge-brigitte-friang-2020-dgse-esiee\">La DGSE et ESIEE Paris organisent le challenge Cybersécurité Brigitte Friang</a></span>\n",
       " <div class=\"clearfix\"></div>\n",
       " <p class=\"slide-content-desc\">Du 24 octobre au 11 novembre 2020, la DGSE et ESIEE Paris organisent le challenge Cybersécurité Brigitte Friang.</p> </div>,\n",
       " <div class=\"slide slide-content\">\n",
       " <span class=\"slide-content-date inline-block\"><span class=\"date-display-single\">27.10.2020</span></span>\n",
       " <span class=\"slide-content-theme inline-block is-uppercase\">Evènements</span>\n",
       " <div class=\"clearfix\"></div>\n",
       " <div class=\"slide-content-img pull-left\"><!-- scald=2691:news_thumbnail --><img alt=\"Forum Descartes 2020\" height=\"90\" src=\"https://www.esiee.fr/sites/default/files/styles/news/public/thumbnails/image/bandeaulinkedin_2020.jpg?itok=EZIG7QEk\" title=\"Forum Descartes 2020\" width=\"120\"/><!-- END scald=2691 --></div>\n",
       " <span class=\"slide-content-title\"><a class=\"is-uppercase\" href=\"/fr/actualite/forum-descartes-2020\">Forum Descartes 2020 : une édition 100% numérique et interactive</a></span>\n",
       " <div class=\"clearfix\"></div>\n",
       " <p class=\"slide-content-desc\">Le Forum Descartes est de retour du jeudi 19 au vendredi 27 novembre 2020.</p> </div>]"
      ]
     },
     "execution_count": 15,
     "metadata": {},
     "output_type": "execute_result"
    }
   ],
   "source": [
    "soup.find_all(class_=\"slide\")[0:5]"
   ]
  },
  {
   "cell_type": "markdown",
   "metadata": {},
   "source": [
    "Pour récupérer le text sans les balises HTML :"
   ]
  },
  {
   "cell_type": "code",
   "execution_count": 16,
   "metadata": {},
   "outputs": [
    {
     "data": {
      "text/plain": [
       "' \\n\\n\\n\\n\\n\\n\\n\\n\\n\\nESIEE Paris, l’école de l’innovation technologique | Grande école d’ingénieurs | ESIEE Paris\\n\\n\\n\\n\\n\\n\\n\\n\\n\\n\\n\\n\\n\\n\\n\\n \\n\\n\\n\\n\\n\\n\\n\\n\\n\\n\\n\\nLes outils ESIEE Paris Webmail ESIEE Paris Emploi du temps général Emploi du temps individuel Extranet iCampus Microsoft DreamSpark \\n\\n\\n\\n\\n\\n\\n\\n\\n\\n\\n\\n\\n\\n\\n\\n\\n\\n\\n\\n\\n\\n\\n\\n\\n\\n\\n\\n\\n\\n\\n\\n\\n\\n\\n\\n\\n\\n\\n\\n\\n\\n\\n\\n\\n\\n\\n menu\\nFormations\\n\\n\\nRETOUR menu\\nFormations ESIEE ParisIngénieur\\n\\n\\nIngénieur\\nRETOUR Formations\\nIngénieur ESIEE ParisPremier cycleLe cycle ingénieur\\n\\n\\nLe cycle ingénieur\\nRETOUR Ingénieur\\nLe cycle ingénieur ESIEE ParisEnseignements de 1ère annéeEnseignements de 2e et 3e annéeProfils métiersFilières\\n\\n\\nFilières\\nRETOUR Ingénieur\\n9 filières, 1 diplômeInformatiqueCybersécuritéDatascience et intelligence artificielleArtificial Intelligence and CybersecuritySystèmes embarquésSystèmes électroniques intelligentsGénie industrielBiotechnologies et e-santéEnergieEmplois et salairesFrais de scolarité ingénieur et aides financièresStagesAdmissionsContactIngénieur par apprentissage\\n\\n\\nIngénieur par a'"
      ]
     },
     "execution_count": 16,
     "metadata": {},
     "output_type": "execute_result"
    }
   ],
   "source": [
    "soup.text[0:1000]"
   ]
  },
  {
   "cell_type": "markdown",
   "metadata": {},
   "source": [
    "## Exercice\n",
    "### Exercice 3\n",
    "\n",
    "Améliorer la classe développé précédemment.\n",
    "\n",
    "- Ajouter une méthode pour récupérer l'objet soup d'un url\n",
    "- Récupérer une liste de User Agent et effectuer une rotation aléatoire sur celui à utiliser\n",
    "- Utiliser cette classe pour parser une page HTML et récupérer : le titre, tous les H1 (si ils existent), les liens vers les images, les liens sortants vers d'autres sites, et le texte principal.\n",
    "\n",
    "Parsing d'un sitemaps pour récupérer une listes de liens avec les informations disponibles. -> Stocker dans un dictionnaire et dans un fichier JSON local."
   ]
  },
  {
   "cell_type": "code",
   "execution_count": 70,
   "metadata": {},
   "outputs": [],
   "source": [
    "import random\n",
    "class req():\n",
    "    \n",
    "    def __init__(self,URL,timeOut=10):\n",
    "        self.aURL = URL\n",
    "        self.aTimeOut = timeOut\n",
    "        self.aHeader = {}\n",
    "        self.aUserAgent = []\n",
    "        with open(\"./user-agents.txt\") as file:\n",
    "            self.aUserAgent = file.read().splitlines()\n",
    "        self.aCurrentUserAgent = self.aUserAgent[0]\n",
    "    \n",
    "    def get(self,URL=None):\n",
    "        self.aCurrentUserAgent = random.choice(self.aUserAgent)\n",
    "        self.aHeader = {'User-Agent':self.aCurrentUserAgent}\n",
    "        if URL is None:\n",
    "            URL = self.aURL\n",
    "        nbTry = 10\n",
    "        \n",
    "        for _ in range(25):\n",
    "            try:\n",
    "                return requests.get(URL, headers=self.aHeader, timeout = self.aTimeOut)\n",
    "\n",
    "            except requests.exceptions.HTTPError as errh:\n",
    "                nbTry = nbTry -1\n",
    "                print (\"Http Error:\",errh)\n",
    "\n",
    "            except requests.exceptions.ConnectionError as errc:\n",
    "                nbTry = nbTry -1\n",
    "                print (\"Error Connecting:\",errc)\n",
    "                self.get(URL)\n",
    "\n",
    "            except requests.exceptions.Timeout as errt:\n",
    "                nbTry = nbTry -1\n",
    "                print (\"Timeout Error:\",errt)\n",
    "                self.get(URL)\n",
    "\n",
    "            except requests.exceptions.RequestException as err:\n",
    "                nbTry = nbTry -1\n",
    "                print (\"OOps: Something Else\",err)\n",
    "                return self.get()\n",
    "        \n",
    "        \n",
    "    def getSoup(self,URL=None):\n",
    "        if URL is None:\n",
    "            URL = self.aURL\n",
    "        return BeautifulSoup(self.get(URL).text)"
   ]
  },
  {
   "cell_type": "code",
   "execution_count": 71,
   "metadata": {},
   "outputs": [],
   "source": [
    "r = req(\"http://www.esiee.fr/\")\n",
    "soup = r.getSoup()\n",
    "titres = soup.find_all(class_=\"title\")\n",
    "H1 = soup.find_all(\"h1\")\n",
    "img = soup.find_all(\"img\")\n",
    "text = soup.find_all(\"p\")\n",
    "links = soup.find_all(\"a\")\n"
   ]
  },
  {
   "cell_type": "markdown",
   "metadata": {},
   "source": [
    "# Exploitation des appels d'API\n"
   ]
  },
  {
   "cell_type": "markdown",
   "metadata": {},
   "source": [
    "\n",
    "Losque le front du site récupère des données sur une API géré par le back, un appel d'API est réalisé. Cet appel est recensé dans les appels réseaux. Il est alors possible de re-jouer cet appel pour récupérer à nouveau les données. Il est très facile de récupérer ces appels dans l'onglet Network de la console développeur de Chrome ou FireFox. La console vous permet de copier le code CURL pour effectuée et vous pouvez ensuite la transformer en code Python depuis le site https://curl.trillworks.com/.\n",
    "\n",
    "Souvent les APIs sont bloquées avec certain paramètres. L'API verifie que dans les headers de la requêtes HTTP ces paramètres sont présents : * un token généré à la volée avec des protocole OAuth2 (ou moins développés). * un referer provenant du site web (la source de la requête), très facile à falsifier.\n",
    "\n"
   ]
  },
  {
   "cell_type": "markdown",
   "metadata": {},
   "source": [
    "## Exercice \n",
    "### Exercice 4\n",
    "\n",
    "- Utiliser les informations développées plus haut pour récupérer les premiers résultats d'une recherche d'une requête\n",
    "sur Qwant. \n",
    "\n",
    "Tips : \n",
    "\n",
    "- Aller sur https://www.qwant.com/\n",
    "- Ouvrir les outils de développements de Chrome ou Firefox\n",
    "- Onglet Network\n",
    "- Fouiller dans les requêtes"
   ]
  },
  {
   "cell_type": "markdown",
   "metadata": {},
   "source": [
    "# Exercice Final  "
   ]
  },
  {
   "cell_type": "markdown",
   "metadata": {},
   "source": [
    "Exercice Final\n",
    "Utilisez tout ce que vous avez appris pour récupérer des articles de News avec une catégorie. Il est souvent intéressant de partir des flux RSS pour commencer :\n",
    "\n",
    "Les données doivent comprendre :\n",
    "- Le texte important propre\n",
    "- L'url\n",
    "- Le domaine\n",
    "- la catégorie\n",
    "- Le titre de l'article\n",
    "- Le titre de la page\n",
    "- (Facultatif) : les images\n",
    "\n",
    "Tips : \n",
    "\n",
    "- Taper le nom de votre média favoris + RSS (par exemple : https://www.lemonde.fr/rss/)\n",
    "- Aller dans le DOM de la page \n",
    "- Trouver les catégories et les liens vers les articles"
   ]
  },
  {
   "cell_type": "code",
   "execution_count": null,
   "metadata": {},
   "outputs": [],
   "source": []
  }
 ],
 "metadata": {
  "kernelspec": {
   "display_name": "Python 3",
   "language": "python",
   "name": "python3"
  },
  "language_info": {
   "codemirror_mode": {
    "name": "ipython",
    "version": 3
   },
   "file_extension": ".py",
   "mimetype": "text/x-python",
   "name": "python",
   "nbconvert_exporter": "python",
   "pygments_lexer": "ipython3",
   "version": "3.7.9"
  }
 },
 "nbformat": 4,
 "nbformat_minor": 2
}
