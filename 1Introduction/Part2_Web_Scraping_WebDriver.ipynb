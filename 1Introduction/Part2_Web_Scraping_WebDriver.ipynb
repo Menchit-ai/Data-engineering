{
 "cells": [
  {
   "cell_type": "markdown",
   "metadata": {},
   "source": [
    "# Introduction"
   ]
  },
  {
   "cell_type": "markdown",
   "metadata": {},
   "source": [
    "Aujourd'hui la plupart des sites web utilisent du JavaScript pour rendre le site plus dynamique et agréable mais aussi pour afficher la données. \n",
    "\n",
    "Pour ces sites, la première méthode abordée n'est pas efficace, car de nombreuses requêtes sont utilisées pour se connecter, afficher la donnée, naviguer, il faudrait prendre en compte toutes ces requêtes et les assembler pour simuler le comportement du site. \n",
    "\n",
    "**C'est le comportement de votre navigateur**, il compile toutes les interactions, les requêtes et génère du HTML permettant d'afficher l'interface graphique d'un site web.\n",
    "\n",
    "Pour palier ce problème on peut laisser le navigateur faire son travail et contrôler sa surcouche logiciel. Pour cela on peut prendre le contrôle d'un navigateur comme Chrome, Edge, Firefox ou Safari depuis un script Python. \n",
    "\n",
    "Pour cela, nous allons utiliser un package Python `Selenium` https://selenium-python.readthedocs.io/ qui permet d'instancier un navigateur et de le contrôler. Sélénium est beaucoup utilisé pour générer des tests automatiques de sites web. \n",
    "\n",
    "On peut trouver les drivers des différents browser : \n",
    "- Chrome:\thttps://sites.google.com/a/chromium.org/chromedriver/downloads\n",
    "- Edge:\thttps://developer.microsoft.com/en-us/microsoft-edge/tools/webdriver/\n",
    "- Firefox:\thttps://github.com/mozilla/geckodriver/releases\n",
    "- Safari:\thttps://webkit.org/blog/6900/webdriver-support-in-safari-10/"
   ]
  },
  {
   "cell_type": "raw",
   "metadata": {},
   "source": [
    "jupyter notebook à utiliser à l'extérieur du dock"
   ]
  },
  {
   "cell_type": "code",
   "execution_count": 1,
   "metadata": {},
   "outputs": [
    {
     "name": "stdout",
     "output_type": "stream",
     "text": [
      "Requirement already satisfied: selenium in c:\\programdata\\anaconda3\\lib\\site-packages (3.141.0)\n",
      "Requirement already satisfied: urllib3 in c:\\programdata\\anaconda3\\lib\\site-packages (from selenium) (1.25.11)\n"
     ]
    }
   ],
   "source": [
    "!pip install selenium"
   ]
  },
  {
   "cell_type": "code",
   "execution_count": 2,
   "metadata": {},
   "outputs": [],
   "source": [
    "from selenium import webdriver"
   ]
  },
  {
   "cell_type": "code",
   "execution_count": 3,
   "metadata": {},
   "outputs": [],
   "source": [
    "IS_LINUX = False"
   ]
  },
  {
   "cell_type": "code",
   "execution_count": 4,
   "metadata": {},
   "outputs": [
    {
     "name": "stderr",
     "output_type": "stream",
     "text": [
      "'ls' n'est pas reconnu en tant que commande interne\n",
      "ou externe, un programme ex‚cutable ou un fichier de commandes.\n"
     ]
    }
   ],
   "source": [
    "!ls"
   ]
  },
  {
   "cell_type": "code",
   "execution_count": 5,
   "metadata": {},
   "outputs": [],
   "source": [
    "chrome = webdriver.Chrome(executable_path=\"./chromedriver\")"
   ]
  },
  {
   "cell_type": "markdown",
   "metadata": {},
   "source": [
    "Vous devez voir apparaître une nouvelle instance de votre navigateur. Si vous voulez accéder à une page : "
   ]
  },
  {
   "cell_type": "code",
   "execution_count": 6,
   "metadata": {},
   "outputs": [],
   "source": [
    "chrome.get(\"https://www.amazon.fr\")"
   ]
  },
  {
   "cell_type": "markdown",
   "metadata": {},
   "source": [
    "Allez maintenant voir votre fenêtre. Vous êtes sur le site d'amazon. Vous pouvez maintenant vous déplacer dans la page. Pour cela il va falloir inspecter le code source de la page.\n",
    "\n",
    "Il existe de nombreuse méthode pour récupérer les éléments par exemple `find_element_by_link_text` qui permet de récupérer un élément grâce au text affiché. Ici, si on veut récupérer toutes les `Ventes Flash`"
   ]
  },
  {
   "cell_type": "code",
   "execution_count": 7,
   "metadata": {},
   "outputs": [
    {
     "data": {
      "text/plain": [
       "selenium.webdriver.remote.webelement.WebElement"
      ]
     },
     "execution_count": 7,
     "metadata": {},
     "output_type": "execute_result"
    }
   ],
   "source": [
    "link = chrome.find_element_by_link_text(\"Voir tout\")\n",
    "type(link)"
   ]
  },
  {
   "cell_type": "markdown",
   "metadata": {},
   "source": [
    "Si on veut entrer dans le lien, il suffit d'appeler la méthode `click`."
   ]
  },
  {
   "cell_type": "code",
   "execution_count": 9,
   "metadata": {},
   "outputs": [],
   "source": [
    "link.click()"
   ]
  },
  {
   "cell_type": "markdown",
   "metadata": {},
   "source": [
    "Vous êtes arrivé sur la page des ventes flash. Maintenant nous allons récupérer toutes les ventes actuelles. On remarque que les ventes sont stockés dans des widgets qui porte l'id `widgetContent`."
   ]
  },
  {
   "cell_type": "code",
   "execution_count": 10,
   "metadata": {},
   "outputs": [
    {
     "data": {
      "text/plain": [
       "(list, 4)"
      ]
     },
     "execution_count": 10,
     "metadata": {},
     "output_type": "execute_result"
    }
   ],
   "source": [
    "all_widgets = chrome.find_elements_by_id(\"widgetContent\")\n",
    "type(all_widgets), len(all_widgets)"
   ]
  },
  {
   "cell_type": "markdown",
   "metadata": {},
   "source": [
    "On obtient une liste d'éléments décrits par cet identifiant. Il y en a 5, un pour chaque ligne. Pour récupérer les différentes offres de la première ligne. on récupère les sections correspondantes: "
   ]
  },
  {
   "cell_type": "code",
   "execution_count": 11,
   "metadata": {},
   "outputs": [
    {
     "data": {
      "text/plain": [
       "80"
      ]
     },
     "execution_count": 11,
     "metadata": {},
     "output_type": "execute_result"
    }
   ],
   "source": [
    "first_line = all_widgets[0]\n",
    "all_first_line_elements = first_line.find_elements_by_class_name('a-section')\n",
    "len(all_first_line_elements)"
   ]
  },
  {
   "cell_type": "markdown",
   "metadata": {},
   "source": [
    "Pour récupérer le text maintenant : "
   ]
  },
  {
   "cell_type": "code",
   "execution_count": 12,
   "metadata": {},
   "outputs": [
    {
     "name": "stdout",
     "output_type": "stream",
     "text": [
      "OFFRE STAR\n",
      "49,90 € - 189,90 €\n",
      "Termine dans 9:39:14\n",
      "tado°: jusqu'à -40% sur les thermostats et les têtes intellige...\n",
      "2168\n",
      "Voir l'offre\n",
      "\n",
      "OFFRE STAR\n",
      "49,90 € - 189,90 €\n",
      "Termine dans 9:39:14\n",
      "tado°: jusqu'à -40% sur les thermostats et les têtes intellige...\n",
      "2168\n",
      "Voir l'offre\n",
      "\n",
      "\n",
      "\n",
      "OFFRE STAR\n",
      "49,90 € - 189,90 €\n",
      "Termine dans 9:39:14\n",
      "tado°: jusqu'à -40% sur les thermostats et les têtes intellige...\n",
      "2168\n",
      "Voir l'offre\n",
      "\n",
      "OFFRE STAR\n",
      "20,00 € - 200,00 €\n",
      "Termine dans 9:39:14\n",
      "Honeywell Home: jusqu'à -30% sur une sélection maison connectée\n",
      "15\n",
      "Voir l'offre\n",
      "\n",
      "OFFRE STAR\n",
      "20,00 € - 200,00 €\n",
      "Termine dans 9:39:14\n",
      "Honeywell Home: jusqu'à -30% sur une sélection maison connectée\n",
      "15\n",
      "Voir l'offre\n",
      "\n",
      "\n",
      "\n",
      "OFFRE STAR\n",
      "20,00 € - 200,00 €\n",
      "Termine dans 9:39:14\n",
      "Honeywell Home: jusqu'à -30% sur une sélection maison connectée\n",
      "15\n",
      "Voir l'offre\n",
      "\n",
      "OFFRE STAR\n",
      "13,49 € - 14,99 €\n",
      "Termine dans 9:34:14\n",
      "CAMBIVO: Jusqu'à -25% sur une sélection de produits sport\n",
      "7825\n",
      "Voir l'offre\n",
      "\n",
      "OFFRE STAR\n",
      "13,49 € - 14,99 €\n",
      "Termine dans 9:34:14\n",
      "CAMBIVO: Jusqu'à -25% sur une sélection de produits sport\n",
      "7825\n",
      "Voir l'offre\n",
      "\n",
      "\n",
      "\n",
      "OFFRE STAR\n",
      "13,49 € - 14,99 €\n",
      "Termine dans 9:34:14\n",
      "CAMBIVO: Jusqu'à -25% sur une sélection de produits sport\n",
      "7825\n",
      "Voir l'offre\n",
      "\n",
      "OFFRE STAR\n",
      "10,25 € - 20,65 €\n",
      "Termine dans 9:34:14\n",
      "Jusqu'à -25% sur les produits de beauté et soins du corps\n",
      "2\n",
      "Voir l'offre\n",
      "\n",
      "OFFRE STAR\n",
      "10,25 € - 20,65 €\n",
      "Termine dans 9:34:14\n",
      "Jusqu'à -25% sur les produits de beauté et soins du corps\n",
      "2\n",
      "Voir l'offre\n",
      "\n",
      "\n",
      "\n",
      "OFFRE STAR\n",
      "10,25 € - 20,65 €\n",
      "Termine dans 9:34:14\n",
      "Jusqu'à -25% sur les produits de beauté et soins du corps\n",
      "2\n",
      "Voir l'offre\n",
      "\n",
      "OFFRE STAR\n",
      "14,99 € - 29,24 €\n",
      "Termine dans 9:34:14\n",
      "Jusqu'à -25% sur une sélection pour la voiture\n",
      "853\n",
      "Voir l'offre\n",
      "\n",
      "OFFRE STAR\n",
      "14,99 € - 29,24 €\n",
      "Termine dans 9:34:14\n",
      "Jusqu'à -25% sur une sélection pour la voiture\n",
      "853\n",
      "Voir l'offre\n",
      "\n",
      "\n",
      "\n",
      "OFFRE STAR\n",
      "14,99 € - 29,24 €\n",
      "Termine dans 9:34:14\n",
      "Jusqu'à -25% sur une sélection pour la voiture\n",
      "853\n",
      "Voir l'offre\n",
      "\n",
      "OFFRE STAR\n",
      "34,99 € - 374,99 €\n",
      "Termine dans 9:39:13\n",
      "Greenworks: jusqu'à -25% sur une sélection d'outils\n",
      "46\n",
      "Voir l'offre\n",
      "\n",
      "OFFRE STAR\n",
      "34,99 € - 374,99 €\n",
      "Termine dans 9:39:13\n",
      "Greenworks: jusqu'à -25% sur une sélection d'outils\n",
      "46\n",
      "Voir l'offre\n",
      "\n",
      "\n",
      "\n",
      "OFFRE STAR\n",
      "34,99 € - 374,99 €\n",
      "Termine dans 9:39:13\n",
      "Greenworks: jusqu'à -25% sur une sélection d'outils\n",
      "46\n",
      "Voir l'offre\n",
      "\n",
      "OFFRE STAR\n",
      "0,99 € - 2,49 €\n",
      "Termine dans 9:39:14\n",
      "Offre ebooks du 16 novembre jusqu'à -80%\n",
      "370\n",
      "Voir l'offre\n",
      "\n",
      "OFFRE STAR\n",
      "0,99 € - 2,49 €\n",
      "Termine dans 9:39:14\n",
      "Offre ebooks du 16 novembre jusqu'à -80%\n",
      "370\n",
      "Voir l'offre\n",
      "\n",
      "\n",
      "\n",
      "OFFRE STAR\n",
      "0,99 € - 2,49 €\n",
      "Termine dans 9:39:14\n",
      "Offre ebooks du 16 novembre jusqu'à -80%\n",
      "370\n",
      "Voir l'offre\n",
      "\n",
      "109,00 € - 399,00 €\n",
      "Xiaomi: jusqu'à -20% sur sur une sélection de smartphones\n",
      "90\n",
      "Voir l'offre\n",
      "\n",
      "109,00 € - 399,00 €\n",
      "Xiaomi: jusqu'à -20% sur sur une sélection de smartphones\n",
      "90\n",
      "Voir l'offre\n",
      "\n",
      "\n",
      "\n",
      "109,00 € - 399,00 €\n",
      "Xiaomi: jusqu'à -20% sur sur une sélection de smartphones\n",
      "90\n",
      "Voir l'offre\n",
      "\n",
      "219,00 € - 429,00 €\n",
      "Samsung: jusqu’à -15% sur une sélection de smartphones\n",
      "51\n",
      "Voir l'offre\n",
      "\n",
      "219,00 € - 429,00 €\n",
      "Samsung: jusqu’à -15% sur une sélection de smartphones\n",
      "51\n",
      "Voir l'offre\n",
      "\n",
      "\n",
      "\n",
      "219,00 € - 429,00 €\n",
      "Samsung: jusqu’à -15% sur une sélection de smartphones\n",
      "51\n",
      "Voir l'offre\n",
      "\n",
      "549,00 € - 2.199,00 €\n",
      "ASUS, HP, Dell...: jusqu'à -15% sur une sélection de PC Windows\n",
      "12\n",
      "Voir l'offre\n",
      "\n",
      "549,00 € - 2.199,00 €\n",
      "ASUS, HP, Dell...: jusqu'à -15% sur une sélection de PC Windows\n",
      "12\n",
      "Voir l'offre\n",
      "\n",
      "\n",
      "\n",
      "549,00 € - 2.199,00 €\n",
      "ASUS, HP, Dell...: jusqu'à -15% sur une sélection de PC Windows\n",
      "12\n",
      "Voir l'offre\n",
      "\n",
      "889,00 € - 2.419,00 €\n",
      "ASUS, HP, Dell...: jusqu'à -15% sur une sélection de PC Gaming\n",
      "552\n",
      "Voir l'offre\n",
      "\n",
      "889,00 € - 2.419,00 €\n",
      "ASUS, HP, Dell...: jusqu'à -15% sur une sélection de PC Gaming\n",
      "552\n",
      "Voir l'offre\n",
      "\n",
      "\n",
      "\n",
      "889,00 € - 2.419,00 €\n",
      "ASUS, HP, Dell...: jusqu'à -15% sur une sélection de PC Gaming\n",
      "552\n",
      "Voir l'offre\n",
      "\n",
      "239,99 € - 599,99 €\n",
      "Huawei: jusqu'à -20% sur des PCs et tablettes\n",
      "11249\n",
      "Voir l'offre\n",
      "\n",
      "239,99 € - 599,99 €\n",
      "Huawei: jusqu'à -20% sur des PCs et tablettes\n",
      "11249\n",
      "Voir l'offre\n",
      "\n",
      "\n",
      "\n",
      "239,99 € - 599,99 €\n",
      "Huawei: jusqu'à -20% sur des PCs et tablettes\n",
      "11249\n",
      "Voir l'offre\n",
      "\n",
      "649,00 €\n",
      "Prix conseillé : 699,00 € (-7%)\n",
      "Chromebook :-50€ sur un ordinateur portable HP\n",
      "745\n",
      "Voir l'offre\n",
      "\n",
      "649,00 €\n",
      "Prix conseillé : 699,00 € (-7%)\n",
      "Chromebook :-50€ sur un ordinateur portable HP\n",
      "745\n",
      "Voir l'offre\n",
      "\n",
      "\n",
      "\n",
      "649,00 €\n",
      "Prix conseillé : 699,00 € (-7%)\n",
      "Chromebook :-50€ sur un ordinateur portable HP\n",
      "745\n",
      "Voir l'offre\n",
      "\n",
      "66,99 € - 749,99 €\n",
      "Western Digital: Jusqu'à -30% sur une sélection de produits\n",
      "87232\n",
      "Voir l'offre\n",
      "\n",
      "66,99 € - 749,99 €\n",
      "Western Digital: Jusqu'à -30% sur une sélection de produits\n",
      "87232\n",
      "Voir l'offre\n",
      "\n",
      "\n",
      "\n",
      "66,99 € - 749,99 €\n",
      "Western Digital: Jusqu'à -30% sur une sélection de produits\n",
      "87232\n",
      "Voir l'offre\n",
      "\n",
      "17,99 € - 99,99 €\n",
      "Oral-B: Jusqu'à -35% sur les brosses à dents électriques Pro et Smart\n",
      "2315\n",
      "Voir l'offre\n",
      "\n",
      "17,99 € - 99,99 €\n",
      "Oral-B: Jusqu'à -35% sur les brosses à dents électriques Pro et Smart\n",
      "2315\n",
      "Voir l'offre\n",
      "\n",
      "\n",
      "\n",
      "17,99 € - 99,99 €\n",
      "Oral-B: Jusqu'à -35% sur les brosses à dents électriques Pro et Smart\n",
      "2315\n",
      "Voir l'offre\n",
      "\n",
      "32,99 € - 139,99 €\n",
      "Philips: Jusqu'à -50% sur les produits de Rasage pour Homme\n",
      "3182\n",
      "Voir l'offre\n",
      "\n",
      "32,99 € - 139,99 €\n",
      "Philips: Jusqu'à -50% sur les produits de Rasage pour Homme\n",
      "3182\n",
      "Voir l'offre\n",
      "\n",
      "\n",
      "\n",
      "32,99 € - 139,99 €\n",
      "Philips: Jusqu'à -50% sur les produits de Rasage pour Homme\n",
      "3182\n",
      "Voir l'offre\n",
      "\n",
      "25,99 € - 37,09 €\n",
      "Pampers : jusqu'à -30% sur les couches & couche-culottes\n",
      "8525\n",
      "Voir l'offre\n",
      "\n",
      "25,99 € - 37,09 €\n",
      "Pampers : jusqu'à -30% sur les couches & couche-culottes\n",
      "8525\n",
      "Voir l'offre\n",
      "\n",
      "\n",
      "\n",
      "25,99 € - 37,09 €\n",
      "Pampers : jusqu'à -30% sur les couches & couche-culottes\n",
      "8525\n",
      "Voir l'offre\n",
      "\n",
      "69,99 €\n",
      "Prix conseillé : 119,99 € (-42%)\n",
      "Rowenta Compact Power Cyclonic Aspirateur Sans Sac\n",
      "Vendu et expédié par Amazon.fr\n",
      "12218\n",
      "Ajouter au panier\n",
      "\n",
      "69,99 €\n",
      "Prix conseillé : 119,99 € (-42%)\n",
      "Rowenta Compact Power Cyclonic Aspirateur Sans Sac\n",
      "Vendu et expédié par Amazon.fr\n",
      "12218\n",
      "Ajouter au panier\n",
      "\n",
      "\n",
      "\n",
      "69,99 €\n",
      "Prix conseillé : 119,99 € (-42%)\n",
      "Rowenta Compact Power Cyclonic Aspirateur Sans Sac\n",
      "Vendu et expédié par Amazon.fr\n",
      "12218\n",
      "Ajouter au panier\n",
      "\n",
      "13,13 € - 39,06 €\n",
      "L'Or, Senseo, Tassimo : jusqu'à -30% sur les capsules, dosettes et café en grains\n",
      "10\n",
      "Voir l'offre\n",
      "\n",
      "13,13 € - 39,06 €\n",
      "L'Or, Senseo, Tassimo : jusqu'à -30% sur les capsules, dosettes et café en grains\n",
      "10\n",
      "Voir l'offre\n",
      "\n",
      "\n",
      "\n",
      "13,13 € - 39,06 €\n",
      "L'Or, Senseo, Tassimo : jusqu'à -30% sur les capsules, dosettes et café en grains\n",
      "10\n",
      "Voir l'offre\n",
      "\n",
      "18,99 € - 129,99 €\n",
      "Philips Sonicare : jusqu'à -40% sur les brosses à dents électriques et les têtes de brosse\n",
      "5186\n",
      "Voir l'offre\n",
      "\n",
      "18,99 € - 129,99 €\n",
      "Philips Sonicare : jusqu'à -40% sur les brosses à dents électriques et les têtes de brosse\n",
      "5186\n",
      "Voir l'offre\n",
      "\n",
      "\n",
      "\n",
      "18,99 € - 129,99 €\n",
      "Philips Sonicare : jusqu'à -40% sur les brosses à dents électriques et les têtes de brosse\n",
      "5186\n",
      "Voir l'offre\n",
      "\n"
     ]
    }
   ],
   "source": [
    "_ = [print(elt.text+ \"\\n\")  for elt in all_first_line_elements]"
   ]
  },
  {
   "cell_type": "markdown",
   "metadata": {},
   "source": [
    "Si vous êtes fan de JavaScript vous pouvez même injecter du code JS dans le navigateur depuis Python pour exécuter des opérations complexes. "
   ]
  },
  {
   "cell_type": "code",
   "execution_count": 13,
   "metadata": {},
   "outputs": [],
   "source": [
    "js_script = \"\"\"\n",
    "const class_name = 'DRIOC'\n",
    "console.log(`Hi from ${class_name}`)\n",
    "\"\"\""
   ]
  },
  {
   "cell_type": "code",
   "execution_count": 14,
   "metadata": {},
   "outputs": [],
   "source": [
    "chrome.execute_script(js_script)"
   ]
  },
  {
   "cell_type": "markdown",
   "metadata": {},
   "source": [
    "Vous pouvez aller vérifier dans la console Javascript du navigateur que le message apparait bien. "
   ]
  },
  {
   "cell_type": "markdown",
   "metadata": {},
   "source": [
    "# Exercice"
   ]
  },
  {
   "cell_type": "markdown",
   "metadata": {},
   "source": [
    "## Exercice 1"
   ]
  },
  {
   "cell_type": "markdown",
   "metadata": {},
   "source": [
    "Extraire le prix des offres :"
   ]
  },
  {
   "cell_type": "code",
   "execution_count": 40,
   "metadata": {},
   "outputs": [
    {
     "data": {
      "text/plain": [
       "['49,90 € - 189,90 €']"
      ]
     },
     "execution_count": 40,
     "metadata": {},
     "output_type": "execute_result"
    }
   ],
   "source": [
    "def extract_price(offer_web_element):\n",
    "    return [price.text for price in offer_web_element.find_elements_by_class_name('dealPriceText')]\n",
    "\n",
    "extract_price(all_first_line_elements[0])"
   ]
  },
  {
   "cell_type": "markdown",
   "metadata": {},
   "source": [
    "Extraire l'image de l'offre: "
   ]
  },
  {
   "cell_type": "code",
   "execution_count": 38,
   "metadata": {},
   "outputs": [
    {
     "data": {
      "text/plain": [
       "['https://m.media-amazon.com/images/G/08/_tools/1200_Brands_Generic/FR_DOTD._AA210_.png']"
      ]
     },
     "execution_count": 38,
     "metadata": {},
     "output_type": "execute_result"
    }
   ],
   "source": [
    "def extract_image(offer_web_element):\n",
    "    return [img.get_attribute(\"src\") for img in offer_web_element.find_elements_by_tag_name('img')]\n",
    "\n",
    "extract_image(all_first_line_elements[0])"
   ]
  },
  {
   "cell_type": "markdown",
   "metadata": {},
   "source": [
    "Extraire le titre de l'offre: "
   ]
  },
  {
   "cell_type": "code",
   "execution_count": 41,
   "metadata": {},
   "outputs": [
    {
     "data": {
      "text/plain": [
       "[\"tado°: jusqu'à -40% sur les thermostats et les têtes intellige...\"]"
      ]
     },
     "execution_count": 41,
     "metadata": {},
     "output_type": "execute_result"
    }
   ],
   "source": [
    "def extract_title(offer_web_element):\n",
    "    return [title.text for title in offer_web_element.find_elements_by_id('dealTitle')]\n",
    "\n",
    "extract_title(all_first_line_elements[0])"
   ]
  },
  {
   "cell_type": "code",
   "execution_count": null,
   "metadata": {},
   "outputs": [],
   "source": [
    "chrome.close()"
   ]
  }
 ],
 "metadata": {
  "kernelspec": {
   "display_name": "Python 3",
   "language": "python",
   "name": "python3"
  },
  "language_info": {
   "codemirror_mode": {
    "name": "ipython",
    "version": 3
   },
   "file_extension": ".py",
   "mimetype": "text/x-python",
   "name": "python",
   "nbconvert_exporter": "python",
   "pygments_lexer": "ipython3",
   "version": "3.7.9"
  }
 },
 "nbformat": 4,
 "nbformat_minor": 2
}
